{
 "cells": [
  {
   "cell_type": "code",
   "execution_count": 1,
   "metadata": {
    "collapsed": true
   },
   "outputs": [],
   "source": [
    "%matplotlib inline \n",
    "\n",
    "import numpy as np\n",
    "import pandas as pd\n",
    "import pymysql as mdb\n",
    "import sqlalchemy as sa\n",
    "import matplotlib.pyplot as plt \n",
    "\n",
    "from sklearn.cross_validation import train_test_split\n",
    "from sklearn import metrics\n",
    "\n",
    "from decimal import *"
   ]
  },
  {
   "cell_type": "code",
   "execution_count": 5,
   "metadata": {
    "collapsed": false
   },
   "outputs": [],
   "source": [
    "# load local sql engine\n",
    "import pickle\n",
    "import sys\n",
    "import re\n",
    "import psycopg2\n",
    "from sqlalchemy import create_engine\n",
    "from sqlalchemy_utils import database_exists, create_database\n",
    "\n",
    "plt.rcParams['figure.figsize'] = 12, 8  # plotsize\n",
    "pd.set_option('display.max_columns', 500)\n",
    "local_weave_pair = sa.create_engine(\"postgres://%s@localhost/%s\"%('rootname','weave_pair'))"
   ]
  },
  {
   "cell_type": "code",
   "execution_count": 6,
   "metadata": {
    "collapsed": false
   },
   "outputs": [
    {
     "name": "stdout",
     "output_type": "stream",
     "text": [
      "True\n"
     ]
    }
   ],
   "source": [
    "## create a database (if it doesn't exist)\n",
    "if not database_exists(local_weave_pair.url):\n",
    "    create_database(local_weave_pair.url)\n",
    "print(database_exists(local_weave_pair.url))\n",
    "\n",
    "# connect:\n",
    "#con = None\n",
    "con = psycopg2.connect(database = 'weave_pair', user = 'jiongz')\n",
    "#con = psycopg2.connect(database = dbname, user = username, password = passwd)\n",
    "\n",
    "\n",
    "# query:\n",
    "sql_query = \"\"\"\n",
    "SELECT * FROM training_set;\n",
    "\"\"\"\n",
    "training_set = pd.read_sql_query(sql_query,con)"
   ]
  },
  {
   "cell_type": "code",
   "execution_count": 7,
   "metadata": {
    "collapsed": false,
    "scrolled": true
   },
   "outputs": [
    {
     "name": "stdout",
     "output_type": "stream",
     "text": [
      "698\n"
     ]
    },
    {
     "data": {
      "text/html": [
       "<div>\n",
       "<table border=\"1\" class=\"dataframe\">\n",
       "  <thead>\n",
       "    <tr style=\"text-align: right;\">\n",
       "      <th></th>\n",
       "      <th>index</th>\n",
       "      <th>week_id</th>\n",
       "      <th>rating</th>\n",
       "      <th>user_id_x</th>\n",
       "      <th>match_id</th>\n",
       "      <th>meeting_times_x</th>\n",
       "      <th>meeting_times_y</th>\n",
       "      <th>get_ratings_mean</th>\n",
       "      <th>match_scores</th>\n",
       "      <th>user_degrees</th>\n",
       "      <th>match_degrees</th>\n",
       "      <th>user_yrs</th>\n",
       "      <th>match_yrs</th>\n",
       "      <th>user_genders</th>\n",
       "      <th>match_genders</th>\n",
       "    </tr>\n",
       "  </thead>\n",
       "  <tbody>\n",
       "    <tr>\n",
       "      <th>0</th>\n",
       "      <td>494</td>\n",
       "      <td>1</td>\n",
       "      <td>5.00</td>\n",
       "      <td>1102</td>\n",
       "      <td>175</td>\n",
       "      <td>9</td>\n",
       "      <td>1</td>\n",
       "      <td>5.00</td>\n",
       "      <td>0</td>\n",
       "      <td>3</td>\n",
       "      <td>3</td>\n",
       "      <td>2001</td>\n",
       "      <td>2006</td>\n",
       "      <td>1</td>\n",
       "      <td>1</td>\n",
       "    </tr>\n",
       "    <tr>\n",
       "      <th>1</th>\n",
       "      <td>28</td>\n",
       "      <td>1</td>\n",
       "      <td>5.00</td>\n",
       "      <td>895</td>\n",
       "      <td>163</td>\n",
       "      <td>4</td>\n",
       "      <td>5</td>\n",
       "      <td>4.50</td>\n",
       "      <td>0</td>\n",
       "      <td>1</td>\n",
       "      <td>1</td>\n",
       "      <td>2005</td>\n",
       "      <td>2007</td>\n",
       "      <td>1</td>\n",
       "      <td>1</td>\n",
       "    </tr>\n",
       "    <tr>\n",
       "      <th>2</th>\n",
       "      <td>287</td>\n",
       "      <td>1</td>\n",
       "      <td>5.00</td>\n",
       "      <td>584</td>\n",
       "      <td>34</td>\n",
       "      <td>3</td>\n",
       "      <td>3</td>\n",
       "      <td>4.50</td>\n",
       "      <td>0</td>\n",
       "      <td>1</td>\n",
       "      <td>1</td>\n",
       "      <td>2004</td>\n",
       "      <td>2007</td>\n",
       "      <td>1</td>\n",
       "      <td>0</td>\n",
       "    </tr>\n",
       "  </tbody>\n",
       "</table>\n",
       "</div>"
      ],
      "text/plain": [
       "   index  week_id rating  user_id_x  match_id  meeting_times_x  \\\n",
       "0    494        1   5.00       1102       175                9   \n",
       "1     28        1   5.00        895       163                4   \n",
       "2    287        1   5.00        584        34                3   \n",
       "\n",
       "   meeting_times_y get_ratings_mean  match_scores  user_degrees  \\\n",
       "0                1             5.00             0             3   \n",
       "1                5             4.50             0             1   \n",
       "2                3             4.50             0             1   \n",
       "\n",
       "   match_degrees  user_yrs  match_yrs  user_genders  match_genders  \n",
       "0              3      2001       2006             1              1  \n",
       "1              1      2005       2007             1              1  \n",
       "2              1      2004       2007             1              0  "
      ]
     },
     "execution_count": 7,
     "metadata": {},
     "output_type": "execute_result"
    }
   ],
   "source": [
    "print len(training_set)\n",
    "training_set.head(3)"
   ]
  },
  {
   "cell_type": "markdown",
   "metadata": {},
   "source": [
    "# Random Forest Model"
   ]
  },
  {
   "cell_type": "code",
   "execution_count": 8,
   "metadata": {
    "collapsed": false
   },
   "outputs": [
    {
     "name": "stdout",
     "output_type": "stream",
     "text": [
      "('accuracy:', 0.57936507936507942)\n",
      "('precision:', 0.57936507936507942)\n",
      "('recall:', 0.57936507936507942)\n",
      "('f1 score:', 0.57936507936507942)\n"
     ]
    }
   ],
   "source": [
    "# set up  test data sets\n",
    "\n",
    "y = training_set.loc[:500,'rating'].values\n",
    "X = training_set.loc[:500,['meeting_times_x','meeting_times_y','get_ratings_mean', 'match_scores', 'user_degrees', 'match_degrees', 'user_yrs', 'match_yrs', 'user_genders', 'match_genders']].values\n",
    "\n",
    "y_hold = training_set.loc[500:,'rating'].values\n",
    "X_hold = training_set.loc[500:,['meeting_times_x','meeting_times_y','get_ratings_mean', 'match_scores', 'user_degrees', 'match_degrees', 'user_yrs', 'match_yrs', 'user_genders', 'match_genders']].values\n",
    "\n",
    "#python can not convert '5.00' to int directly\n",
    "y.astype(float).astype(int)\n",
    "X.astype(float)\n",
    "\n",
    "# test 1 with RF\n",
    "\n",
    "\n",
    "from sklearn.ensemble import RandomForestClassifier\n",
    "\n",
    "X_train, X_test, y_train, y_test = train_test_split(X.astype(float), y.astype(float).astype(int), random_state=0)\n",
    "\n",
    "clf = RandomForestClassifier(n_estimators=10000, random_state=10, class_weight=\"auto\").fit(X_train, y_train)\n",
    "\n",
    "y_pred = clf.predict(X_test)\n",
    "\n",
    "\n",
    "print(\"accuracy:\", metrics.accuracy_score(y_test.astype(int), y_pred.astype(int)))\n",
    "print(\"precision:\", metrics.precision_score(y_test.astype(int), y_pred.astype(int), average='micro'))\n",
    "print(\"recall:\", metrics.recall_score(y_test.astype(int), y_pred.astype(int), average='micro'))\n",
    "print(\"f1 score:\", metrics.f1_score(y_test.astype(int), y_pred.astype(int), average='micro'))"
   ]
  },
  {
   "cell_type": "code",
   "execution_count": 9,
   "metadata": {
    "collapsed": true
   },
   "outputs": [],
   "source": [
    "# save trained model\n",
    "import pickle\n",
    "s = pickle.dumps(clf)\n",
    "from sklearn.externals import joblib\n",
    "joblib.dump(clf, 'recommender_prototype/app/static/rate_meeting.pkl');"
   ]
  },
  {
   "cell_type": "markdown",
   "metadata": {
    "collapsed": false
   },
   "source": [
    "## Cross-Validation"
   ]
  },
  {
   "cell_type": "code",
   "execution_count": 10,
   "metadata": {
    "collapsed": false
   },
   "outputs": [
    {
     "name": "stdout",
     "output_type": "stream",
     "text": [
      "[ 0.63461538  0.51923077  0.50980392  0.52941176  0.52941176  0.4\n",
      "  0.57142857  0.63265306  0.55102041  0.70212766]\n",
      "mean accuracy score: 0.557970330522\n"
     ]
    },
    {
     "name": "stderr",
     "output_type": "stream",
     "text": [
      "/Library/Frameworks/Python.framework/Versions/2.7/lib/python2.7/site-packages/sklearn/cross_validation.py:417: Warning: The least populated class in y has only 5 members, which is too few. The minimum number of labels for any class cannot be less than n_folds=10.\n",
      "  % (min_labels, self.n_folds)), Warning)\n"
     ]
    }
   ],
   "source": [
    "from sklearn.cross_validation import cross_val_score\n",
    "\n",
    "# 10-fold cross-validation with RF\n",
    "rfclf = RandomForestClassifier(n_estimators=1000, class_weight=\"auto\")\n",
    "scores = cross_val_score(rfclf, X, y, cv=10, scoring='accuracy')\n",
    "print scores\n",
    "print 'mean accuracy score:', scores.mean()"
   ]
  },
  {
   "cell_type": "markdown",
   "metadata": {},
   "source": [
    "### Feature selection conclusion: not use years"
   ]
  },
  {
   "cell_type": "code",
   "execution_count": 11,
   "metadata": {
    "collapsed": false
   },
   "outputs": [
    {
     "name": "stdout",
     "output_type": "stream",
     "text": [
      "0.53768346553\n"
     ]
    }
   ],
   "source": [
    "#no meeting times\n",
    "\n",
    "y = training_set.loc[:500,'rating'].values\n",
    "X = training_set.loc[:500,['get_ratings_mean', 'match_scores', 'user_degrees', 'match_degrees', 'user_yrs', 'match_yrs', 'user_genders', 'match_genders']].values\n",
    "# 10-fold cross-validation with RF\n",
    "rfclf = RandomForestClassifier(n_estimators=1000, class_weight=\"auto\")\n",
    "scores = cross_val_score(rfclf, X, y, cv=10, scoring='accuracy')\n",
    "print scores.mean()"
   ]
  },
  {
   "cell_type": "code",
   "execution_count": 12,
   "metadata": {
    "collapsed": false
   },
   "outputs": [
    {
     "name": "stdout",
     "output_type": "stream",
     "text": [
      "0.566224141375\n"
     ]
    }
   ],
   "source": [
    "#no get_ratings\n",
    "\n",
    "y = training_set.loc[:500,'rating'].values\n",
    "X = training_set.loc[:500,['meeting_times_x','meeting_times_y', 'get_ratings_mean', 'match_scores', 'user_degrees', 'match_degrees', 'user_yrs', 'match_yrs', 'user_genders', 'match_genders']].values\n",
    "# 10-fold cross-validation with RF\n",
    "rfclf = RandomForestClassifier(n_estimators=1000, class_weight=\"auto\")\n",
    "scores = cross_val_score(rfclf, X, y, cv=10, scoring='accuracy')\n",
    "print scores.mean()"
   ]
  },
  {
   "cell_type": "code",
   "execution_count": 13,
   "metadata": {
    "collapsed": false
   },
   "outputs": [
    {
     "name": "stdout",
     "output_type": "stream",
     "text": [
      "0.539945688259\n"
     ]
    }
   ],
   "source": [
    "#no match_score\n",
    "\n",
    "y = training_set.loc[:500,'rating'].values\n",
    "X = training_set.loc[:500,['meeting_times_x','meeting_times_y', 'get_ratings_mean', 'user_degrees', 'match_degrees', 'user_yrs', 'match_yrs', 'user_genders', 'match_genders']].values\n",
    "# 10-fold cross-validation with RF\n",
    "rfclf = RandomForestClassifier(n_estimators=1000, class_weight=\"auto\")\n",
    "scores = cross_val_score(rfclf, X, y, cv=10, scoring='accuracy')\n",
    "print scores.mean()"
   ]
  },
  {
   "cell_type": "code",
   "execution_count": 14,
   "metadata": {
    "collapsed": false
   },
   "outputs": [
    {
     "name": "stdout",
     "output_type": "stream",
     "text": [
      "0.559695263375\n"
     ]
    }
   ],
   "source": [
    "#no degrees\n",
    "\n",
    "y = training_set.loc[:500,'rating'].values\n",
    "X = training_set.loc[:500,['meeting_times_x','meeting_times_y', 'get_ratings_mean', 'match_scores', 'user_yrs', 'match_yrs', 'user_genders', 'match_genders']].values\n",
    "# 10-fold cross-validation with RF\n",
    "rfclf = RandomForestClassifier(n_estimators=1000, class_weight=\"auto\")\n",
    "scores = cross_val_score(rfclf, X, y, cv=10, scoring='accuracy')\n",
    "print scores.mean()"
   ]
  },
  {
   "cell_type": "code",
   "execution_count": 15,
   "metadata": {
    "collapsed": false
   },
   "outputs": [
    {
     "name": "stdout",
     "output_type": "stream",
     "text": [
      "0.581166220989\n"
     ]
    }
   ],
   "source": [
    "#no years\n",
    "\n",
    "y = training_set.loc[:500,'rating'].values\n",
    "X = training_set.loc[:500,['meeting_times_x','meeting_times_y', 'get_ratings_mean', 'match_scores', 'user_degrees', 'match_degrees', 'user_genders', 'match_genders']].values\n",
    "# 10-fold cross-validation with RF\n",
    "rfclf = RandomForestClassifier(n_estimators=1000, class_weight=\"auto\")\n",
    "scores = cross_val_score(rfclf, X, y, cv=10, scoring='accuracy')\n",
    "print scores.mean()"
   ]
  },
  {
   "cell_type": "code",
   "execution_count": 16,
   "metadata": {
    "collapsed": false
   },
   "outputs": [
    {
     "name": "stdout",
     "output_type": "stream",
     "text": [
      "0.557912782789\n"
     ]
    }
   ],
   "source": [
    "#no genders\n",
    "\n",
    "y = training_set.loc[:500,'rating'].values\n",
    "X = training_set.loc[:500,['meeting_times_x','meeting_times_y', 'get_ratings_mean', 'match_scores', 'user_degrees', 'match_degrees', 'user_yrs', 'match_yrs']].values\n",
    "# 10-fold cross-validation with RF\n",
    "rfclf = RandomForestClassifier(n_estimators=1000, class_weight=\"auto\")\n",
    "scores = cross_val_score(rfclf, X, y, cv=10, scoring='accuracy')\n",
    "print scores.mean()"
   ]
  },
  {
   "cell_type": "markdown",
   "metadata": {},
   "source": [
    "### parameters selection"
   ]
  },
  {
   "cell_type": "code",
   "execution_count": 17,
   "metadata": {
    "collapsed": false
   },
   "outputs": [
    {
     "name": "stdout",
     "output_type": "stream",
     "text": [
      "[0.48536642611217984, 0.53688045037982457, 0.57740540209537172, 0.57919931114835466, 0.58521234025525104]\n"
     ]
    }
   ],
   "source": [
    "y = training_set.loc[:500,'rating'].values\n",
    "X = training_set.loc[:500,['meeting_times_x','meeting_times_y', 'get_ratings_mean', 'match_scores', 'user_degrees', 'match_degrees', 'user_genders', 'match_genders']].values\n",
    "\n",
    "n_range = [1, 10, 100, 1000, 10000]\n",
    "n_scores = []\n",
    "for n_e in n_range:\n",
    "    # 10-fold cross-validation with RF\n",
    "    rfclf = RandomForestClassifier(n_estimators=n_e, class_weight=\"auto\")\n",
    "    scores = cross_val_score(rfclf, X, y, cv=10, scoring='accuracy')\n",
    "    n_scores.append(scores.mean())\n",
    "print n_scores"
   ]
  },
  {
   "cell_type": "code",
   "execution_count": 18,
   "metadata": {
    "collapsed": false
   },
   "outputs": [
    {
     "data": {
      "text/plain": [
       "([<matplotlib.axis.XTick at 0x10e5c2fd0>,\n",
       "  <matplotlib.axis.XTick at 0x15a5bb550>,\n",
       "  <matplotlib.axis.XTick at 0x110419f90>,\n",
       "  <matplotlib.axis.XTick at 0x11025e550>,\n",
       "  <matplotlib.axis.XTick at 0x11025ecd0>],\n",
       " <a list of 5 Text xticklabel objects>)"
      ]
     },
     "execution_count": 18,
     "metadata": {},
     "output_type": "execute_result"
    },
    {
     "data": {
      "image/png": "[encoded data removed]",
      "text/plain": [
       "<matplotlib.figure.Figure at 0x10f273490>"
      ]
     },
     "metadata": {},
     "output_type": "display_data"
    }
   ],
   "source": [
    "plt.plot(n_scores)\n",
    "plt.ylabel(\"accuracy_score\")\n",
    "plt.xlabel(\"n_estimator\")\n",
    "x_t = [0, 1, 2, 3, 4]\n",
    "labels = ['1', '10', '100', '1000', '10000']\n",
    "# You can specify a rotation for the tick labels in degrees or with keywords.\n",
    "plt.xticks(x_t, labels, rotation='horizontal')"
   ]
  },
  {
   "cell_type": "markdown",
   "metadata": {},
   "source": [
    "# Logistic Regression"
   ]
  },
  {
   "cell_type": "code",
   "execution_count": 19,
   "metadata": {
    "collapsed": true
   },
   "outputs": [],
   "source": [
    "from sklearn.linear_model import LogisticRegression\n",
    "from sklearn.linear_model import LogisticRegressionCV\n",
    "from sklearn.grid_search import GridSearchCV\n"
   ]
  },
  {
   "cell_type": "code",
   "execution_count": 20,
   "metadata": {
    "collapsed": true
   },
   "outputs": [],
   "source": [
    "y = training_set.loc[:500,'rating'].values\n",
    "X = training_set.loc[:500,['meeting_times_x','meeting_times_y', 'get_ratings_mean', 'match_scores', 'user_degrees', 'match_degrees', 'user_genders', 'match_genders']].values\n"
   ]
  },
  {
   "cell_type": "code",
   "execution_count": 21,
   "metadata": {
    "collapsed": false
   },
   "outputs": [
    {
     "data": {
      "text/plain": [
       "GridSearchCV(cv=10, error_score='raise',\n",
       "       estimator=LogisticRegression(C=1.0, class_weight='auto', dual=False, fit_intercept=True,\n",
       "          intercept_scaling=1, max_iter=100, multi_class='ovr',\n",
       "          penalty='l2', random_state=None, solver='liblinear', tol=0.0001,\n",
       "          verbose=0),\n",
       "       fit_params={}, iid=True, loss_func=None, n_jobs=1,\n",
       "       param_grid={'C': [0.001, 0.01, 0.1, 1, 10, 100, 1000, 10000]},\n",
       "       pre_dispatch='2*n_jobs', refit=True, score_func=None,\n",
       "       scoring='accuracy', verbose=0)"
      ]
     },
     "execution_count": 21,
     "metadata": {},
     "output_type": "execute_result"
    }
   ],
   "source": [
    "param_grid = {'C': [0.001, 0.01, 0.1, 1, 10, 100, 1000, 10000] }\n",
    "lrclf = LogisticRegression(penalty='l2', class_weight='auto')\n",
    "grid= GridSearchCV(lrclf, param_grid, cv=10, scoring='accuracy')\n",
    "grid.fit(X,y)"
   ]
  },
  {
   "cell_type": "code",
   "execution_count": 22,
   "metadata": {
    "collapsed": false
   },
   "outputs": [
    {
     "data": {
      "text/plain": [
       "[mean: 0.48303, std: 0.01176, params: {'C': 0.001},\n",
       " mean: 0.47705, std: 0.01928, params: {'C': 0.01},\n",
       " mean: 0.44311, std: 0.04863, params: {'C': 0.1},\n",
       " mean: 0.48503, std: 0.04292, params: {'C': 1},\n",
       " mean: 0.55090, std: 0.05929, params: {'C': 10},\n",
       " mean: 0.55289, std: 0.06090, params: {'C': 100},\n",
       " mean: 0.55489, std: 0.07333, params: {'C': 1000},\n",
       " mean: 0.54890, std: 0.07226, params: {'C': 10000}]"
      ]
     },
     "execution_count": 22,
     "metadata": {},
     "output_type": "execute_result"
    }
   ],
   "source": [
    "grid.grid_scores_"
   ]
  },
  {
   "cell_type": "code",
   "execution_count": null,
   "metadata": {
    "collapsed": false
   },
   "outputs": [],
   "source": [
    "print grid.best_params_\n",
    "print grid.best_estimator_"
   ]
  },
  {
   "cell_type": "code",
   "execution_count": 23,
   "metadata": {
    "collapsed": false
   },
   "outputs": [
    {
     "data": {
      "text/plain": [
       "([<matplotlib.axis.XTick at 0x11f0b5190>,\n",
       "  <matplotlib.axis.XTick at 0x10f273190>,\n",
       "  <matplotlib.axis.XTick at 0x11f0dde10>,\n",
       "  <matplotlib.axis.XTick at 0x11023f510>,\n",
       "  <matplotlib.axis.XTick at 0x11023fc90>],\n",
       " <a list of 5 Text xticklabel objects>)"
      ]
     },
     "execution_count": 23,
     "metadata": {},
     "output_type": "execute_result"
    },
    {
     "data": {
      "image/png": "[encoded data removed]",
      "text/plain": [
       "<matplotlib.figure.Figure at 0x10e5cd1d0>"
      ]
     },
     "metadata": {},
     "output_type": "display_data"
    }
   ],
   "source": [
    "plt.plot([0.55289, 0.58283, 0.59880, 0.60279, 0.60279])\n",
    "plt.ylabel(\"accuracy_score\")\n",
    "plt.xlabel(\"C\")\n",
    "x_t = [0, 1, 2, 3, 4]\n",
    "labels = ['1', '10', '100', '1000', '10000']\n",
    "# You can specify a rotation for the tick labels in degrees or with keywords.\n",
    "plt.xticks(x_t, labels, rotation='horizontal')"
   ]
  },
  {
   "cell_type": "markdown",
   "metadata": {},
   "source": [
    "# knn classifier"
   ]
  },
  {
   "cell_type": "code",
   "execution_count": 24,
   "metadata": {
    "collapsed": true
   },
   "outputs": [],
   "source": [
    "from sklearn.neighbors import KNeighborsClassifier\n",
    "from sklearn.grid_search import GridSearchCV"
   ]
  },
  {
   "cell_type": "code",
   "execution_count": 25,
   "metadata": {
    "collapsed": false
   },
   "outputs": [
    {
     "data": {
      "text/plain": [
       "GridSearchCV(cv=10, error_score='raise',\n",
       "       estimator=KNeighborsClassifier(algorithm='auto', leaf_size=30, metric='minkowski',\n",
       "           metric_params=None, n_neighbors=5, p=2, weights='uniform'),\n",
       "       fit_params={}, iid=True, loss_func=None, n_jobs=1,\n",
       "       param_grid={'n_neighbors': [1, 2, 3, 4, 5, 6, 7, 8, 9, 10, 11, 12, 13, 14, 15, 16, 17, 18, 19, 20, 21, 22, 23, 24, 25, 26, 27, 28, 29, 30]},\n",
       "       pre_dispatch='2*n_jobs', refit=True, score_func=None,\n",
       "       scoring='accuracy', verbose=0)"
      ]
     },
     "execution_count": 25,
     "metadata": {},
     "output_type": "execute_result"
    }
   ],
   "source": [
    "param_grid = dict(n_neighbors = range(1,31))\n",
    "knnclf = KNeighborsClassifier()\n",
    "grid= GridSearchCV(knnclf, param_grid, cv=10, scoring='accuracy')\n",
    "grid.fit(X,y)"
   ]
  },
  {
   "cell_type": "code",
   "execution_count": 26,
   "metadata": {
    "collapsed": false
   },
   "outputs": [
    {
     "data": {
      "text/plain": [
       "[mean: 0.47305, std: 0.06481, params: {'n_neighbors': 1},\n",
       " mean: 0.42116, std: 0.06027, params: {'n_neighbors': 2},\n",
       " mean: 0.48303, std: 0.07995, params: {'n_neighbors': 3},\n",
       " mean: 0.48503, std: 0.06210, params: {'n_neighbors': 4},\n",
       " mean: 0.51697, std: 0.08891, params: {'n_neighbors': 5},\n",
       " mean: 0.47904, std: 0.05818, params: {'n_neighbors': 6},\n",
       " mean: 0.51297, std: 0.06935, params: {'n_neighbors': 7},\n",
       " mean: 0.50499, std: 0.04981, params: {'n_neighbors': 8},\n",
       " mean: 0.51896, std: 0.06270, params: {'n_neighbors': 9},\n",
       " mean: 0.51098, std: 0.07092, params: {'n_neighbors': 10},\n",
       " mean: 0.54291, std: 0.04698, params: {'n_neighbors': 11},\n",
       " mean: 0.52894, std: 0.04337, params: {'n_neighbors': 12},\n",
       " mean: 0.53293, std: 0.05744, params: {'n_neighbors': 13},\n",
       " mean: 0.53493, std: 0.05235, params: {'n_neighbors': 14},\n",
       " mean: 0.54491, std: 0.04774, params: {'n_neighbors': 15},\n",
       " mean: 0.53293, std: 0.05198, params: {'n_neighbors': 16},\n",
       " mean: 0.52894, std: 0.04069, params: {'n_neighbors': 17},\n",
       " mean: 0.53094, std: 0.05231, params: {'n_neighbors': 18},\n",
       " mean: 0.54291, std: 0.05866, params: {'n_neighbors': 19},\n",
       " mean: 0.53892, std: 0.05414, params: {'n_neighbors': 20},\n",
       " mean: 0.55289, std: 0.05809, params: {'n_neighbors': 21},\n",
       " mean: 0.53493, std: 0.05354, params: {'n_neighbors': 22},\n",
       " mean: 0.54890, std: 0.06242, params: {'n_neighbors': 23},\n",
       " mean: 0.54691, std: 0.05369, params: {'n_neighbors': 24},\n",
       " mean: 0.56287, std: 0.05247, params: {'n_neighbors': 25},\n",
       " mean: 0.55090, std: 0.04874, params: {'n_neighbors': 26},\n",
       " mean: 0.55689, std: 0.04356, params: {'n_neighbors': 27},\n",
       " mean: 0.54291, std: 0.05145, params: {'n_neighbors': 28},\n",
       " mean: 0.55689, std: 0.04769, params: {'n_neighbors': 29},\n",
       " mean: 0.54691, std: 0.04318, params: {'n_neighbors': 30}]"
      ]
     },
     "execution_count": 26,
     "metadata": {},
     "output_type": "execute_result"
    }
   ],
   "source": [
    "grid.grid_scores_"
   ]
  },
  {
   "cell_type": "markdown",
   "metadata": {},
   "source": [
    "# Model test"
   ]
  },
  {
   "cell_type": "code",
   "execution_count": 27,
   "metadata": {
    "collapsed": false
   },
   "outputs": [],
   "source": [
    "from sklearn.linear_model import LogisticRegression\n",
    "from sklearn.ensemble import RandomForestClassifier\n",
    "\n",
    "rfclf = RandomForestClassifier(n_estimators=10000, class_weight=\"auto\")\n",
    "lrclf = LogisticRegression(C=1000, class_weight='auto', dual=False, fit_intercept=True,\n",
    "          intercept_scaling=1, max_iter=100, multi_class='ovr',\n",
    "          penalty='l2', random_state=None, solver='liblinear', tol=0.0001,\n",
    "          verbose=0)"
   ]
  },
  {
   "cell_type": "code",
   "execution_count": 28,
   "metadata": {
    "collapsed": false
   },
   "outputs": [],
   "source": [
    "y = training_set.loc[:500,'rating'].values\n",
    "X = training_set.loc[:500,['meeting_times_x','meeting_times_y', 'get_ratings_mean', 'match_scores', 'user_degrees', 'match_degrees', 'user_genders', 'match_genders']].values\n"
   ]
  },
  {
   "cell_type": "code",
   "execution_count": 29,
   "metadata": {
    "collapsed": false
   },
   "outputs": [
    {
     "data": {
      "text/plain": [
       "RandomForestClassifier(bootstrap=True, class_weight='auto', criterion='gini',\n",
       "            max_depth=None, max_features='auto', max_leaf_nodes=None,\n",
       "            min_samples_leaf=1, min_samples_split=2,\n",
       "            min_weight_fraction_leaf=0.0, n_estimators=10000, n_jobs=1,\n",
       "            oob_score=False, random_state=None, verbose=0,\n",
       "            warm_start=False)"
      ]
     },
     "execution_count": 29,
     "metadata": {},
     "output_type": "execute_result"
    }
   ],
   "source": [
    "rfclf.fit(X,y)"
   ]
  },
  {
   "cell_type": "code",
   "execution_count": 30,
   "metadata": {
    "collapsed": false
   },
   "outputs": [
    {
     "data": {
      "text/plain": [
       "LogisticRegression(C=1000, class_weight='auto', dual=False,\n",
       "          fit_intercept=True, intercept_scaling=1, max_iter=100,\n",
       "          multi_class='ovr', penalty='l2', random_state=None,\n",
       "          solver='liblinear', tol=0.0001, verbose=0)"
      ]
     },
     "execution_count": 30,
     "metadata": {},
     "output_type": "execute_result"
    }
   ],
   "source": [
    "lrclf.fit(X,y)"
   ]
  },
  {
   "cell_type": "code",
   "execution_count": 31,
   "metadata": {
    "collapsed": false
   },
   "outputs": [
    {
     "name": "stdout",
     "output_type": "stream",
     "text": [
      "198\n",
      "198\n"
     ]
    }
   ],
   "source": [
    "y_hold = training_set.loc[500:,'rating'].values\n",
    "X_hold = training_set.loc[500:,['meeting_times_x','meeting_times_y',\n",
    "                                'get_ratings_mean', 'match_scores', \n",
    "                                'user_degrees', 'match_degrees', \n",
    "                                'user_genders', 'match_genders']].values\n",
    "print len(y_hold)\n",
    "print len(X_hold)"
   ]
  },
  {
   "cell_type": "code",
   "execution_count": 32,
   "metadata": {
    "collapsed": false
   },
   "outputs": [
    {
     "name": "stdout",
     "output_type": "stream",
     "text": [
      "('logistic regression accuracy:', 0.62121212121212122)\n",
      "('random forest accuracy:', 0.66666666666666663)\n"
     ]
    }
   ],
   "source": [
    "y_lr_pred = lrclf.predict(X_hold)\n",
    "print(\"logistic regression accuracy:\", metrics.accuracy_score(y_hold.astype(float).astype(int), y_lr_pred.astype(float).astype(int)))\n",
    "y_rf_pred = rfclf.predict(X_hold)\n",
    "print(\"random forest accuracy:\", metrics.accuracy_score(y_hold.astype(float).astype(int), y_rf_pred.astype(float).astype(int)))"
   ]
  },
  {
   "cell_type": "code",
   "execution_count": 33,
   "metadata": {
    "collapsed": false
   },
   "outputs": [
    {
     "name": "stdout",
     "output_type": "stream",
     "text": [
      "[ 0  0  0 -1 -1  0 -1  0  0  3  0  0  0  0 -1  0  1  0  0  0  0  0  0 -1  0\n",
      "  0  1  0 -1  0  0  1  0 -3  0  0  1  0  1  0  0  1  0  0  0  0  0  1  0  0\n",
      "  0  1 -2  0  1  0  1  0  1  0  0  0 -2 -2  0  0  0 -2  0  0  0 -1  0  0  2\n",
      "  0  0  0  1  0  1 -1  0  0 -1  0 -1  1  2  0  0  1  0  0 -1  0 -1  0  1  1\n",
      " -3 -1  1  0  0  0  0  1 -3  0  0  0  0  0  1  0  0 -3  1  0 -2  1  1  1 -1\n",
      "  0  0  0  0  1  0  0  0  0  0  0  2 -2  0 -1  0  0  0  0 -1  1  1  1 -1  0\n",
      "  0  0  1 -4  0 -2  0  0  0 -1  0  0  0 -1  0  0  0  0 -3 -1  0  0  0  1  1\n",
      " -1  0  0  0  1  0 -3  0  0  0  0  0  0  0  1  1  0  0  1  0  0  0  1]\n"
     ]
    }
   ],
   "source": [
    "lr_delta = y_lr_pred.astype(float).astype(int)-y_hold.astype(float).astype(int)\n",
    "print lr_delta"
   ]
  },
  {
   "cell_type": "code",
   "execution_count": 34,
   "metadata": {
    "collapsed": false
   },
   "outputs": [
    {
     "name": "stdout",
     "output_type": "stream",
     "text": [
      "(array([ 33,  52,  62,  63,  67, 100, 108, 117, 120, 137, 153, 155, 168, 181]),)\n",
      "(array([  9,  74,  88, 136]),)\n",
      "18\n"
     ]
    }
   ],
   "source": [
    "print np.where(lr_delta<-1) \n",
    "print np.where(lr_delta>1) \n",
    "print len(np.where(lr_delta<-1)[0])+len(np.where(lr_delta>1)[0])"
   ]
  },
  {
   "cell_type": "code",
   "execution_count": 35,
   "metadata": {
    "collapsed": false
   },
   "outputs": [
    {
     "name": "stdout",
     "output_type": "stream",
     "text": [
      "[ 0  0 -1 -1 -1  0 -1  1  0  4  0  0  0  0  0  0  1  2  0  0  0 -1  0  0  0\n",
      "  0  1  0  0 -1  0  1  0  1  0  0  1  0  3  0  0  1  0  0  0  0 -1  1  0  0\n",
      "  0  1 -2  1  1  0  0  0  1  0  0  0  0 -1  0  0  1 -1  0  0  0 -2  0  0  2\n",
      " -1  0  0  0  0  1 -1  0  0  0  0  0  1  2  0 -1  1  0  0  0  0 -2  0  1  1\n",
      "  1 -1  1  0  0  0  0  0  1  0  0 -1  0  0  1  0  0  0  1  0  0  1  2  0  1\n",
      "  0  0  0  0  1  0 -1  0  0  0  0  1  0  0  0 -1  0  0  0 -1  0  0  1 -1  0\n",
      "  0  0  0 -2  0 -1  0  1  0  0  0  0  0 -1  0  0  0  1 -1  0  0  0  0  1  1\n",
      "  0  0  0  0  0  0  0 -1  0  0  0  0  0  0  1  0  0  0  1  0  0  0  0]\n"
     ]
    }
   ],
   "source": [
    "rf_delta = y_rf_pred.astype(float).astype(int)-y_hold.astype(float).astype(int)\n",
    "print rf_delta"
   ]
  },
  {
   "cell_type": "code",
   "execution_count": 36,
   "metadata": {
    "collapsed": false
   },
   "outputs": [
    {
     "data": {
      "text/plain": [
       "0.75545156741320663"
      ]
     },
     "execution_count": 36,
     "metadata": {},
     "output_type": "execute_result"
    }
   ],
   "source": [
    "np.sqrt((rf_delta**2).sum()/198.0)"
   ]
  },
  {
   "cell_type": "code",
   "execution_count": 37,
   "metadata": {
    "collapsed": false
   },
   "outputs": [
    {
     "name": "stdout",
     "output_type": "stream",
     "text": [
      "(array([ 52,  71,  96, 153]),)\n",
      "(array([  9,  17,  38,  74,  88, 122]),)\n",
      "10\n"
     ]
    }
   ],
   "source": [
    "print np.where(rf_delta<-1) \n",
    "print np.where(rf_delta>1) \n",
    "print len(np.where(rf_delta<-1)[0])+len(np.where(rf_delta>1)[0])"
   ]
  },
  {
   "cell_type": "code",
   "execution_count": 38,
   "metadata": {
    "collapsed": false
   },
   "outputs": [
    {
     "data": {
      "text/plain": [
       "0.050505050505050504"
      ]
     },
     "execution_count": 38,
     "metadata": {},
     "output_type": "execute_result"
    }
   ],
   "source": [
    "10.0/len(rf_delta)"
   ]
  },
  {
   "cell_type": "code",
   "execution_count": 39,
   "metadata": {
    "collapsed": false
   },
   "outputs": [
    {
     "name": "stdout",
     "output_type": "stream",
     "text": [
      "[5 4 3 4 2 5 4 3 5 5 5 5 5 5 3 5 5 3 5 5 5 4 4 4 5 5 5 5 4 4 5 5 4 5 5 5 5\n",
      " 5 5 5 5 4 5 5 5 5 4 4 5 5 4 4 3 3 5 5 4 5 5 5 4 5 3 4 5 5 5 4 5 5 5 3 5 5\n",
      " 4 4 4 5 4 5 5 4 5 5 4 5 3 5 5 5 3 5 4 5 4 5 3 4 5 5 5 4 5 5 5 5 5 4 5 4 5\n",
      " 4 5 5 5 4 5 4 4 5 3 4 5 4 5 5 5 5 5 5 5 4 5 4 5 5 4 5 5 4 4 4 5 5 4 4 4 5\n",
      " 4 5 5 5 4 3 5 3 5 5 5 4 5 5 5 4 5 5 5 4 4 3 5 5 5 5 5 4 5 5 5 3 5 4 4 5 5\n",
      " 4 5 5 4 5 4 5 5 4 5 5 5 4]\n",
      "[5 4 4 5 3 5 5 2 5 1 5 5 5 5 3 5 4 1 5 5 5 5 4 4 5 5 4 5 4 5 5 4 4 4 5 5 4\n",
      " 5 2 5 5 3 5 5 5 5 5 3 5 5 4 3 5 2 4 5 4 5 4 5 4 5 3 5 5 5 4 5 5 5 5 5 5 5\n",
      " 2 5 4 5 4 5 4 5 5 5 4 5 3 4 3 5 4 4 4 5 4 5 5 4 4 4 4 5 4 5 5 5 5 4 4 4 5\n",
      " 5 5 5 4 4 5 4 3 5 3 3 3 4 4 5 5 5 5 4 5 5 5 4 5 5 3 5 5 4 5 4 5 5 5 4 4 4\n",
      " 5 5 5 5 4 5 5 4 5 4 5 4 5 5 5 5 5 5 5 3 5 3 5 5 5 4 4 4 5 5 5 3 5 4 5 5 5\n",
      " 4 5 5 4 4 4 5 5 3 5 5 5 4]\n"
     ]
    },
    {
     "data": {
      "text/plain": [
       "122"
      ]
     },
     "execution_count": 39,
     "metadata": {},
     "output_type": "execute_result"
    }
   ],
   "source": [
    "print y_rf_pred.astype(float).astype(int)\n",
    "print y_hold.astype(float).astype(int)\n",
    "len([i for i in y_rf_pred.astype(float).astype(int) if i ==5])"
   ]
  },
  {
   "cell_type": "code",
   "execution_count": 40,
   "metadata": {
    "collapsed": false
   },
   "outputs": [
    {
     "data": {
      "text/plain": [
       "<matplotlib.text.Text at 0x12ece9790>"
      ]
     },
     "execution_count": 40,
     "metadata": {},
     "output_type": "execute_result"
    },
    {
     "data": {
      "image/png": "[encoded data removed]",
      "text/plain": [
       "<matplotlib.figure.Figure at 0x12b8c54d0>"
      ]
     },
     "metadata": {},
     "output_type": "display_data"
    }
   ],
   "source": [
    "ind = np.arange(len(lr_delta))\n",
    "width = 0.2\n",
    "fig, ax = plt.subplots()\n",
    "rect_lr = ax.bar(ind, lr_delta, width, color='r')\n",
    "rect_rf = ax.bar(ind+width, rf_delta, width, color='b')\n",
    "# add some text for labels, title and axes ticks\n",
    "ax.set_ylabel('rating - rating_predict')\n"
   ]
  },
  {
   "cell_type": "code",
   "execution_count": null,
   "metadata": {
    "collapsed": true
   },
   "outputs": [],
   "source": []
  }
 ],
 "metadata": {
  "kernelspec": {
   "display_name": "Python 2",
   "language": "python",
   "name": "python2"
  },
  "language_info": {
   "codemirror_mode": {
    "name": "ipython",
    "version": 2
   },
   "file_extension": ".py",
   "mimetype": "text/x-python",
   "name": "python",
   "nbconvert_exporter": "python",
   "pygments_lexer": "ipython2",
   "version": "2.7.10"
  }
 },
 "nbformat": 4,
 "nbformat_minor": 0
}
