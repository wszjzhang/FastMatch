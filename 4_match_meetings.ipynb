{
 "cells": [
  {
   "cell_type": "code",
   "execution_count": 1,
   "metadata": {
    "collapsed": true
   },
   "outputs": [],
   "source": [
    "\n",
    "\n",
    "import numpy as np\n",
    "import pandas as pd\n",
    "import pymysql as mdb\n",
    "import sqlalchemy as sa\n",
    "\n",
    "from decimal import *\n",
    "\n",
    "import sexmachine.detector as gender\n",
    "identify_gender = gender.Detector()\n",
    "\n",
    "# load local sql engine\n",
    "import pickle\n",
    "import sys\n",
    "import re\n",
    "import psycopg2\n",
    "\n",
    "from sqlalchemy_utils import database_exists, create_database\n",
    "\n",
    "%matplotlib inline\n",
    "%config InlineBackend.figure_format='retina'\n",
    "pd.set_option('display.max_columns', 500)\n",
    "local_weave_pair = sa.create_engine(\"postgres://%s@localhost/%s\"%('rootname','weave_pair'))\n"
   ]
  },
  {
   "cell_type": "code",
   "execution_count": 2,
   "metadata": {
    "collapsed": true
   },
   "outputs": [],
   "source": [
    "from sklearn.ensemble import RandomForestClassifier\n",
    "\n",
    "rfclf = RandomForestClassifier(n_estimators=10000, class_weight=\"auto\")\n"
   ]
  },
  {
   "cell_type": "code",
   "execution_count": 3,
   "metadata": {
    "collapsed": false
   },
   "outputs": [
    {
     "name": "stdout",
     "output_type": "stream",
     "text": [
      "True\n"
     ]
    }
   ],
   "source": [
    "## create a database (if it doesn't exist)\n",
    "if not database_exists(local_weave_pair.url):\n",
    "    create_database(local_weave_pair.url)\n",
    "print(database_exists(local_weave_pair.url))\n",
    "\n",
    "# connect:\n",
    "#con = None\n",
    "con = psycopg2.connect(database = 'weave_pair', user = 'jiongz')\n",
    "#con = psycopg2.connect(database = dbname, user = username, password = passwd)\n",
    "\n",
    "\n",
    "# query:\n",
    "sql_query = \"\"\"\n",
    "SELECT * FROM training_set;\n",
    "\"\"\"\n",
    "training_set = pd.read_sql_query(sql_query,con)"
   ]
  },
  {
   "cell_type": "markdown",
   "metadata": {},
   "source": [
    "# Get Rating Prediction Model"
   ]
  },
  {
   "cell_type": "code",
   "execution_count": 7,
   "metadata": {
    "collapsed": false
   },
   "outputs": [
    {
     "data": {
      "text/plain": [
       "RandomForestClassifier(bootstrap=True, class_weight='auto', criterion='gini',\n",
       "            max_depth=None, max_features='auto', max_leaf_nodes=None,\n",
       "            min_samples_leaf=1, min_samples_split=2,\n",
       "            min_weight_fraction_leaf=0.0, n_estimators=10000, n_jobs=1,\n",
       "            oob_score=False, random_state=None, verbose=0,\n",
       "            warm_start=False)"
      ]
     },
     "execution_count": 7,
     "metadata": {},
     "output_type": "execute_result"
    }
   ],
   "source": [
    "y = training_set.loc[:,'rating'].values\n",
    "X = training_set.loc[:,['meeting_times_x','meeting_times_y', 'get_ratings_mean', 'match_scores', 'user_degrees', 'match_degrees', 'user_genders', 'match_genders']].values\n",
    "rfclf.fit(X,y)"
   ]
  },
  {
   "cell_type": "markdown",
   "metadata": {},
   "source": [
    "# Calculate meeting features for available users"
   ]
  },
  {
   "cell_type": "code",
   "execution_count": 8,
   "metadata": {
    "collapsed": false
   },
   "outputs": [
    {
     "data": {
      "text/html": [
       "<div>\n",
       "<table border=\"1\" class=\"dataframe\">\n",
       "  <thead>\n",
       "    <tr style=\"text-align: right;\">\n",
       "      <th></th>\n",
       "      <th>level_0</th>\n",
       "      <th>user_id</th>\n",
       "      <th>meeting_times</th>\n",
       "      <th>hood</th>\n",
       "      <th>title</th>\n",
       "      <th>looking_for</th>\n",
       "      <th>get_ratings_mean</th>\n",
       "      <th>ratings_mean</th>\n",
       "      <th>index</th>\n",
       "      <th>name</th>\n",
       "      <th>degree</th>\n",
       "      <th>start_yr</th>\n",
       "      <th>majors</th>\n",
       "    </tr>\n",
       "  </thead>\n",
       "  <tbody>\n",
       "    <tr>\n",
       "      <th>0</th>\n",
       "      <td>0</td>\n",
       "      <td>307</td>\n",
       "      <td>12</td>\n",
       "      <td>soma market st north beach</td>\n",
       "      <td>{ceo}</td>\n",
       "      <td>{\"investor founder\"}</td>\n",
       "      <td>4.333333333333333333333333333</td>\n",
       "      <td>4.25</td>\n",
       "      <td>67</td>\n",
       "      <td>Everett Young</td>\n",
       "      <td>B.A.,</td>\n",
       "      <td>2000</td>\n",
       "      <td>{\"Entrepreneurship/Entrepreneurial Studies\",\"T...</td>\n",
       "    </tr>\n",
       "    <tr>\n",
       "      <th>1</th>\n",
       "      <td>1</td>\n",
       "      <td>2183</td>\n",
       "      <td>11</td>\n",
       "      <td></td>\n",
       "      <td>{founder}</td>\n",
       "      <td>{\"\"}</td>\n",
       "      <td>4.888888888888888888888888889</td>\n",
       "      <td>4.363636363636363636363636364</td>\n",
       "      <td>118</td>\n",
       "      <td>Brian Ma</td>\n",
       "      <td>BS,</td>\n",
       "      <td>2004</td>\n",
       "      <td>{\"Computer Science, Electrical Engineering\"}</td>\n",
       "    </tr>\n",
       "    <tr>\n",
       "      <th>2</th>\n",
       "      <td>2</td>\n",
       "      <td>1081</td>\n",
       "      <td>10</td>\n",
       "      <td></td>\n",
       "      <td>{\"softwar engin\"}</td>\n",
       "      <td>{\"\"}</td>\n",
       "      <td>4.50</td>\n",
       "      <td>4.50</td>\n",
       "      <td>107</td>\n",
       "      <td>Amin Shaikh</td>\n",
       "      <td>Sc.B.,</td>\n",
       "      <td>2007</td>\n",
       "      <td>{\"Computer Engineering\"}</td>\n",
       "    </tr>\n",
       "  </tbody>\n",
       "</table>\n",
       "</div>"
      ],
      "text/plain": [
       "   level_0  user_id  meeting_times                        hood  \\\n",
       "0        0      307             12  soma market st north beach   \n",
       "1        1     2183             11                               \n",
       "2        2     1081             10                               \n",
       "\n",
       "               title           looking_for               get_ratings_mean  \\\n",
       "0              {ceo}  {\"investor founder\"}  4.333333333333333333333333333   \n",
       "1          {founder}                  {\"\"}  4.888888888888888888888888889   \n",
       "2  {\"softwar engin\"}                  {\"\"}                           4.50   \n",
       "\n",
       "                    ratings_mean  index           name   degree  start_yr  \\\n",
       "0                           4.25     67  Everett Young   B.A.,       2000   \n",
       "1  4.363636363636363636363636364    118       Brian Ma     BS,       2004   \n",
       "2                           4.50    107    Amin Shaikh  Sc.B.,       2007   \n",
       "\n",
       "                                              majors  \n",
       "0  {\"Entrepreneurship/Entrepreneurial Studies\",\"T...  \n",
       "1       {\"Computer Science, Electrical Engineering\"}  \n",
       "2                           {\"Computer Engineering\"}  "
      ]
     },
     "execution_count": 8,
     "metadata": {},
     "output_type": "execute_result"
    }
   ],
   "source": [
    "# get user features query:\n",
    "sql_query = \"\"\"\n",
    "SELECT * FROM user_features_combine;\n",
    "\"\"\"\n",
    "user_features = pd.read_sql_query(sql_query,con)\n",
    "user_features.head(3)"
   ]
  },
  {
   "cell_type": "code",
   "execution_count": 9,
   "metadata": {
    "collapsed": false
   },
   "outputs": [],
   "source": [
    "user_features_com=user_features.dropna()"
   ]
  },
  {
   "cell_type": "code",
   "execution_count": 10,
   "metadata": {
    "collapsed": true
   },
   "outputs": [],
   "source": [
    "user_id_set = user_features_com['user_id'].values"
   ]
  },
  {
   "cell_type": "code",
   "execution_count": 11,
   "metadata": {
    "collapsed": false
   },
   "outputs": [],
   "source": [
    "user_id_set.astype('int');"
   ]
  },
  {
   "cell_type": "code",
   "execution_count": 12,
   "metadata": {
    "collapsed": true
   },
   "outputs": [],
   "source": [
    "available_user_ids = [217, 18119, 17745, 16570,  1286, 17668, 18096, 18182,  1282,\n",
    "       17738, 18184, 18095, 17743, 18835,   137, 18863,   388, 17495,\n",
    "         422,   399,   100, 18925, 16512, 18903,   474, 18902, 18818,\n",
    "       18898,   475, 18896, 18908, 18544,   113, 18917,   127, 18875,\n",
    "           2, 18500, 18612, 18613]"
   ]
  },
  {
   "cell_type": "code",
   "execution_count": 24,
   "metadata": {
    "collapsed": false
   },
   "outputs": [],
   "source": [
    "## building features for each pair and calculate pred_rating in meeting score matrix\n",
    "## This is the time-consuming part. It predicts ratings for all possible pairs.\n",
    "## rating_user in rows; match_user in \n",
    "## ['meeting_times_x','meeting_times_y', 'get_ratings_mean', 'match_scores', 'user_degrees', 'match_degrees', 'user_genders', 'match_genders']\n",
    "\n",
    "meeting_score_matrix = pd.DataFrame(index=available_user_ids, columns=available_user_ids)\n",
    "degree_dict = {'b':1, 'm':2, 'p':3}\n",
    "gender_dict = {'female':0, 'mostly_female':0, 'male':1, 'mostly_male':1, 'andy':2}\n",
    "\n",
    "for user_1 in available_user_ids:\n",
    "    for user_2 in available_user_ids:\n",
    "        if user_1 == user_2:\n",
    "            # meeting rating 0 if same user\n",
    "            meeting_score_matrix.set_value(user_1, user_2, 0)\n",
    "        else:\n",
    "            ############################ meeting features ###############################\n",
    "            meeting_times_x = user_features_com[user_features_com['user_id'] == user_1]['meeting_times'].values[0].astype('int')\n",
    "            meeting_times_y = user_features_com[user_features_com['user_id'] == user_2]['meeting_times'].values[0].astype('int')\n",
    "            get_ratings_mean= user_features_com[user_features_com['user_id'] == user_1]['get_ratings_mean'].values[0]\n",
    "            # calculate match score\n",
    "            demands = set(user_features_com.loc[user_features_com['user_id'] == user_1,'looking_for'].values[0][0].split())\n",
    "            supplies = set(user_features_com.loc[user_features_com['user_id']== user_2,'title'].values[0][0].split())\n",
    "            if not demands:\n",
    "                match_score = 1\n",
    "            else:\n",
    "                if demands.intersection(supplies):\n",
    "                    match_score = 2\n",
    "                else:\n",
    "                    match_score = 0\n",
    "            # user1 degree\n",
    "            if user_features_com.loc[user_features_com['user_id'] == user_1,'degree'].values:\n",
    "                user_degree = user_features_com.loc[user_features_com['user_id'] == user_1,'degree'].values[0][0].lower()\n",
    "                if user_degree in degree_dict:\n",
    "                    user_degree = degree_dict[user_degree]\n",
    "                else:\n",
    "                    user_degree = 0\n",
    "            else:\n",
    "                user_degree = 0\n",
    "            # match degree\n",
    "            if user_features_com.loc[user_features_com['user_id'] == user_2,'degree'].values:\n",
    "                match_degree = user_features_com.loc[user_features_com['user_id'] == user_2,'degree'].values[0][0].lower()\n",
    "                if match_degree in degree_dict:\n",
    "                    match_degree = degree_dict[match_degree]\n",
    "                else:\n",
    "                    match_degree = 0\n",
    "            else:\n",
    "                match_degree = 0\n",
    "        \n",
    "            # get genders\n",
    "            # user_gender\n",
    "            user_name = user_features_com.loc[user_features_com['user_id'] == user_1,'name'].values[0].split()[0]\n",
    "            user_gender = gender_dict[identify_gender.get_gender(user_name)]\n",
    "            # match_gender\n",
    "            match_name = user_features_com.loc[user_features_com['user_id'] == user_2,'name'].values[0].split()[0]\n",
    "            match_gender = gender_dict[identify_gender.get_gender(match_name)]\n",
    "            \n",
    "            ################# predict meeting rating ####################### \n",
    "            user1_rate_user2 = rfclf.predict([meeting_times_x, meeting_times_y, get_ratings_mean, match_score, user_degree, match_degree, user_gender, match_gender])\n",
    "            meeting_score_matrix.set_value(user_1, user_2, user1_rate_user2[0])"
   ]
  },
  {
   "cell_type": "code",
   "execution_count": 26,
   "metadata": {
    "collapsed": false
   },
   "outputs": [
    {
     "data": {
      "text/html": [
       "<div>\n",
       "<table border=\"1\" class=\"dataframe\">\n",
       "  <thead>\n",
       "    <tr style=\"text-align: right;\">\n",
       "      <th></th>\n",
       "      <th>217</th>\n",
       "      <th>18119</th>\n",
       "      <th>17745</th>\n",
       "      <th>16570</th>\n",
       "      <th>1286</th>\n",
       "      <th>17668</th>\n",
       "      <th>18096</th>\n",
       "      <th>18182</th>\n",
       "      <th>1282</th>\n",
       "      <th>17738</th>\n",
       "      <th>18184</th>\n",
       "      <th>18095</th>\n",
       "      <th>17743</th>\n",
       "      <th>18835</th>\n",
       "      <th>137</th>\n",
       "      <th>18863</th>\n",
       "      <th>388</th>\n",
       "      <th>17495</th>\n",
       "      <th>422</th>\n",
       "      <th>399</th>\n",
       "      <th>100</th>\n",
       "      <th>18925</th>\n",
       "      <th>16512</th>\n",
       "      <th>18903</th>\n",
       "      <th>474</th>\n",
       "      <th>18902</th>\n",
       "      <th>18818</th>\n",
       "      <th>18898</th>\n",
       "      <th>475</th>\n",
       "      <th>18896</th>\n",
       "      <th>18908</th>\n",
       "      <th>18544</th>\n",
       "      <th>113</th>\n",
       "      <th>18917</th>\n",
       "      <th>127</th>\n",
       "      <th>18875</th>\n",
       "      <th>2</th>\n",
       "      <th>18500</th>\n",
       "      <th>18612</th>\n",
       "      <th>18613</th>\n",
       "    </tr>\n",
       "  </thead>\n",
       "  <tbody>\n",
       "    <tr>\n",
       "      <th>217</th>\n",
       "      <td>0</td>\n",
       "      <td>5.00</td>\n",
       "      <td>5.00</td>\n",
       "      <td>5.00</td>\n",
       "      <td>5.00</td>\n",
       "      <td>5.00</td>\n",
       "      <td>5.00</td>\n",
       "      <td>5.00</td>\n",
       "      <td>5.00</td>\n",
       "      <td>5.00</td>\n",
       "      <td>5.00</td>\n",
       "      <td>5.00</td>\n",
       "      <td>5.00</td>\n",
       "      <td>5.00</td>\n",
       "      <td>5.00</td>\n",
       "      <td>5.00</td>\n",
       "      <td>5.00</td>\n",
       "      <td>5.00</td>\n",
       "      <td>5.00</td>\n",
       "      <td>5.00</td>\n",
       "      <td>5.00</td>\n",
       "      <td>5.00</td>\n",
       "      <td>5.00</td>\n",
       "      <td>5.00</td>\n",
       "      <td>5.00</td>\n",
       "      <td>5.00</td>\n",
       "      <td>5.00</td>\n",
       "      <td>5.00</td>\n",
       "      <td>5.00</td>\n",
       "      <td>5.00</td>\n",
       "      <td>5.00</td>\n",
       "      <td>5.00</td>\n",
       "      <td>5.00</td>\n",
       "      <td>5.00</td>\n",
       "      <td>5.00</td>\n",
       "      <td>5.00</td>\n",
       "      <td>5.00</td>\n",
       "      <td>5.00</td>\n",
       "      <td>5.00</td>\n",
       "      <td>5.00</td>\n",
       "    </tr>\n",
       "    <tr>\n",
       "      <th>18119</th>\n",
       "      <td>5.00</td>\n",
       "      <td>0</td>\n",
       "      <td>5.00</td>\n",
       "      <td>5.00</td>\n",
       "      <td>5.00</td>\n",
       "      <td>5.00</td>\n",
       "      <td>5.00</td>\n",
       "      <td>5.00</td>\n",
       "      <td>5.00</td>\n",
       "      <td>5.00</td>\n",
       "      <td>5.00</td>\n",
       "      <td>5.00</td>\n",
       "      <td>5.00</td>\n",
       "      <td>5.00</td>\n",
       "      <td>5.00</td>\n",
       "      <td>5.00</td>\n",
       "      <td>5.00</td>\n",
       "      <td>5.00</td>\n",
       "      <td>5.00</td>\n",
       "      <td>5.00</td>\n",
       "      <td>5.00</td>\n",
       "      <td>5.00</td>\n",
       "      <td>5.00</td>\n",
       "      <td>5.00</td>\n",
       "      <td>5.00</td>\n",
       "      <td>5.00</td>\n",
       "      <td>5.00</td>\n",
       "      <td>5.00</td>\n",
       "      <td>5.00</td>\n",
       "      <td>5.00</td>\n",
       "      <td>5.00</td>\n",
       "      <td>5.00</td>\n",
       "      <td>5.00</td>\n",
       "      <td>5.00</td>\n",
       "      <td>5.00</td>\n",
       "      <td>5.00</td>\n",
       "      <td>5.00</td>\n",
       "      <td>5.00</td>\n",
       "      <td>5.00</td>\n",
       "      <td>5.00</td>\n",
       "    </tr>\n",
       "    <tr>\n",
       "      <th>17745</th>\n",
       "      <td>5.00</td>\n",
       "      <td>5.00</td>\n",
       "      <td>0</td>\n",
       "      <td>5.00</td>\n",
       "      <td>5.00</td>\n",
       "      <td>5.00</td>\n",
       "      <td>4.00</td>\n",
       "      <td>5.00</td>\n",
       "      <td>5.00</td>\n",
       "      <td>5.00</td>\n",
       "      <td>4.00</td>\n",
       "      <td>4.00</td>\n",
       "      <td>5.00</td>\n",
       "      <td>4.00</td>\n",
       "      <td>4.00</td>\n",
       "      <td>4.00</td>\n",
       "      <td>4.00</td>\n",
       "      <td>4.00</td>\n",
       "      <td>4.00</td>\n",
       "      <td>4.00</td>\n",
       "      <td>5.00</td>\n",
       "      <td>4.00</td>\n",
       "      <td>4.00</td>\n",
       "      <td>4.00</td>\n",
       "      <td>4.00</td>\n",
       "      <td>4.00</td>\n",
       "      <td>5.00</td>\n",
       "      <td>4.00</td>\n",
       "      <td>4.00</td>\n",
       "      <td>4.00</td>\n",
       "      <td>5.00</td>\n",
       "      <td>4.00</td>\n",
       "      <td>5.00</td>\n",
       "      <td>5.00</td>\n",
       "      <td>4.00</td>\n",
       "      <td>4.00</td>\n",
       "      <td>4.00</td>\n",
       "      <td>4.00</td>\n",
       "      <td>4.00</td>\n",
       "      <td>5.00</td>\n",
       "    </tr>\n",
       "  </tbody>\n",
       "</table>\n",
       "</div>"
      ],
      "text/plain": [
       "      217   18119 17745 16570 1286  17668 18096 18182 1282  17738 18184 18095  \\\n",
       "217       0  5.00  5.00  5.00  5.00  5.00  5.00  5.00  5.00  5.00  5.00  5.00   \n",
       "18119  5.00     0  5.00  5.00  5.00  5.00  5.00  5.00  5.00  5.00  5.00  5.00   \n",
       "17745  5.00  5.00     0  5.00  5.00  5.00  4.00  5.00  5.00  5.00  4.00  4.00   \n",
       "\n",
       "      17743 18835 137   18863 388   17495 422   399   100   18925 16512 18903  \\\n",
       "217    5.00  5.00  5.00  5.00  5.00  5.00  5.00  5.00  5.00  5.00  5.00  5.00   \n",
       "18119  5.00  5.00  5.00  5.00  5.00  5.00  5.00  5.00  5.00  5.00  5.00  5.00   \n",
       "17745  5.00  4.00  4.00  4.00  4.00  4.00  4.00  4.00  5.00  4.00  4.00  4.00   \n",
       "\n",
       "      474   18902 18818 18898 475   18896 18908 18544 113   18917 127   18875  \\\n",
       "217    5.00  5.00  5.00  5.00  5.00  5.00  5.00  5.00  5.00  5.00  5.00  5.00   \n",
       "18119  5.00  5.00  5.00  5.00  5.00  5.00  5.00  5.00  5.00  5.00  5.00  5.00   \n",
       "17745  4.00  4.00  5.00  4.00  4.00  4.00  5.00  4.00  5.00  5.00  4.00  4.00   \n",
       "\n",
       "      2     18500 18612 18613  \n",
       "217    5.00  5.00  5.00  5.00  \n",
       "18119  5.00  5.00  5.00  5.00  \n",
       "17745  4.00  4.00  4.00  5.00  "
      ]
     },
     "execution_count": 26,
     "metadata": {},
     "output_type": "execute_result"
    }
   ],
   "source": [
    "meeting_score_matrix[:3]"
   ]
  },
  {
   "cell_type": "code",
   "execution_count": 39,
   "metadata": {
    "collapsed": false
   },
   "outputs": [],
   "source": [
    "# Select 5 star pairs\n",
    "good_matches = []\n",
    "for i in xrange(len(available_user_ids)):\n",
    "    for j in xrange(i+1, len(available_user_ids)):\n",
    "        rating1 = float(meeting_score_matrix[available_user_ids[i]][available_user_ids[j]])\n",
    "        rating2 = float(meeting_score_matrix[available_user_ids[j]][available_user_ids[i]])\n",
    "        if rating1+rating2 == 10:\n",
    "            good_matches.append((available_user_ids[i], available_user_ids[j]))\n"
   ]
  },
  {
   "cell_type": "code",
   "execution_count": 40,
   "metadata": {
    "collapsed": false
   },
   "outputs": [
    {
     "name": "stdout",
     "output_type": "stream",
     "text": [
      "[(217, 18119), (217, 17745), (217, 16570), (217, 1286), (217, 17668), (217, 18096), (217, 18182), (217, 17738), (217, 18184), (217, 18095), (217, 18863), (217, 17495), (217, 422), (217, 100), (217, 16512), (217, 18903), (217, 474), (217, 18902), (217, 18818), (217, 18898), (217, 475), (217, 18908), (217, 18544), (217, 113), (217, 18917), (217, 127), (217, 18875), (217, 2), (217, 18500), (217, 18612), (217, 18613), (18119, 17745), (18119, 16570), (18119, 1286), (18119, 18096), (18119, 17738), (18119, 18184), (18119, 18095), (18119, 18863), (18119, 422), (18119, 100), (18119, 18903), (18119, 474), (18119, 18902), (18119, 18818), (18119, 18898), (18119, 18908), (18119, 18544), (18119, 113), (18119, 18917), (18119, 18875), (18119, 2), (18119, 18500), (18119, 18612), (18119, 18613), (17745, 16570), (17745, 1286), (17745, 17738), (17745, 100), (17745, 18818), (17745, 18908), (17745, 113), (17745, 18917), (17745, 18613), (16570, 1286), (16570, 17738), (16570, 18184), (16570, 18095), (16570, 18863), (16570, 388), (16570, 17495), (16570, 422), (16570, 399), (16570, 100), (16570, 16512), (16570, 18903), (16570, 474), (16570, 18902), (16570, 18818), (16570, 18898), (16570, 475), (16570, 18908), (16570, 18544), (16570, 113), (16570, 18917), (16570, 18875), (16570, 2), (16570, 18500), (16570, 18612), (16570, 18613), (1286, 18096), (1286, 17738), (1286, 18184), (1286, 18095), (1286, 18863), (1286, 422), (1286, 100), (1286, 18903), (1286, 474), (1286, 18902), (1286, 18818), (1286, 18898), (1286, 18908), (1286, 18544), (1286, 113), (1286, 18917), (1286, 18875), (1286, 2), (1286, 18500), (1286, 18612), (1286, 18613), (17668, 18096), (17668, 18184), (17668, 18095), (17668, 422), (17668, 100), (17668, 18818), (17668, 18898), (17668, 18908), (17668, 18917), (17668, 127), (17668, 18875), (17668, 18500), (17668, 18613), (18096, 18184), (18096, 18095), (18096, 18863), (18096, 17495), (18096, 422), (18096, 100), (18096, 16512), (18096, 18903), (18096, 474), (18096, 18902), (18096, 18818), (18096, 475), (18096, 18908), (18096, 18544), (18096, 18917), (18096, 127), (18096, 18875), (18096, 2), (18096, 18612), (18182, 100), (18182, 18902), (18182, 18818), (18182, 18908), (18182, 18917), (18182, 18875), (18182, 18613), (1282, 100), (1282, 18902), (1282, 18818), (1282, 18908), (17738, 18863), (17738, 100), (17738, 18903), (17738, 474), (17738, 18902), (17738, 18818), (17738, 18908), (17738, 18544), (17738, 18917), (17738, 18875), (17738, 2), (17738, 18612), (17738, 18613), (18184, 18095), (18184, 18863), (18184, 17495), (18184, 422), (18184, 100), (18184, 16512), (18184, 18903), (18184, 474), (18184, 18902), (18184, 18818), (18184, 18898), (18184, 475), (18184, 18908), (18184, 18544), (18184, 113), (18184, 18917), (18184, 127), (18184, 18875), (18184, 2), (18184, 18612), (18095, 18863), (18095, 17495), (18095, 422), (18095, 100), (18095, 16512), (18095, 18903), (18095, 474), (18095, 18902), (18095, 18818), (18095, 18898), (18095, 475), (18095, 18908), (18095, 18544), (18095, 113), (18095, 18917), (18095, 127), (18095, 18875), (18095, 2), (18095, 18612), (17743, 100), (17743, 18818), (17743, 18908), (18835, 399), (18835, 100), (18835, 18902), (18835, 18818), (18835, 18908), (18863, 17495), (18863, 422), (18863, 399), (18863, 100), (18863, 16512), (18863, 18903), (18863, 474), (18863, 18902), (18863, 18818), (18863, 18898), (18863, 475), (18863, 18908), (18863, 18544), (18863, 113), (18863, 18917), (18863, 127), (18863, 18875), (18863, 2), (18863, 18500), (18863, 18612), (388, 399), (388, 100), (388, 18902), (388, 18818), (388, 18908), (17495, 422), (17495, 399), (17495, 100), (17495, 16512), (17495, 18903), (17495, 474), (17495, 18902), (17495, 18818), (17495, 18898), (17495, 475), (17495, 18908), (17495, 18544), (17495, 113), (17495, 18917), (17495, 127), (17495, 18875), (17495, 2), (17495, 18500), (17495, 18612), (422, 100), (422, 16512), (422, 18903), (422, 474), (422, 18902), (422, 18818), (422, 18898), (422, 475), (422, 18908), (422, 18544), (422, 113), (422, 18917), (422, 127), (422, 18875), (422, 2), (422, 18612), (399, 100), (399, 16512), (399, 18903), (399, 474), (399, 18902), (399, 18818), (399, 475), (399, 18896), (399, 18908), (399, 18544), (399, 113), (399, 18917), (399, 18875), (399, 2), (399, 18612), (100, 18925), (100, 16512), (100, 18903), (100, 474), (100, 18902), (100, 18818), (100, 18898), (100, 475), (100, 18896), (100, 18908), (100, 18544), (100, 113), (100, 18917), (100, 127), (100, 18875), (100, 2), (100, 18500), (100, 18612), (100, 18613), (18925, 18818), (18925, 18908), (16512, 18903), (16512, 474), (16512, 18902), (16512, 18818), (16512, 18898), (16512, 475), (16512, 18908), (16512, 18544), (16512, 113), (16512, 18917), (16512, 127), (16512, 18875), (16512, 2), (16512, 18500), (16512, 18612), (18903, 474), (18903, 18902), (18903, 18818), (18903, 18898), (18903, 475), (18903, 18908), (18903, 18544), (18903, 113), (18903, 18917), (18903, 127), (18903, 18875), (18903, 2), (18903, 18500), (18903, 18612), (474, 18902), (474, 18818), (474, 18898), (474, 475), (474, 18908), (474, 18544), (474, 113), (474, 18917), (474, 127), (474, 18875), (474, 2), (474, 18500), (474, 18612), (18902, 18818), (18902, 18898), (18902, 475), (18902, 18896), (18902, 18908), (18902, 18544), (18902, 113), (18902, 18917), (18902, 18875), (18902, 2), (18902, 18500), (18902, 18612), (18818, 18898), (18818, 475), (18818, 18896), (18818, 18908), (18818, 18544), (18818, 113), (18818, 18917), (18818, 127), (18818, 18875), (18818, 2), (18818, 18500), (18818, 18612), (18818, 18613), (18898, 475), (18898, 18908), (18898, 18544), (18898, 113), (18898, 18917), (18898, 127), (18898, 18875), (18898, 2), (18898, 18612), (475, 18908), (475, 18544), (475, 113), (475, 18917), (475, 127), (475, 18875), (475, 2), (475, 18500), (475, 18612), (18896, 18908), (18908, 18544), (18908, 113), (18908, 18917), (18908, 127), (18908, 18875), (18908, 2), (18908, 18500), (18908, 18612), (18908, 18613), (18544, 113), (18544, 18917), (18544, 127), (18544, 18875), (18544, 2), (18544, 18500), (18544, 18612), (113, 18917), (113, 18875), (113, 2), (113, 18612), (113, 18613), (18917, 127), (18917, 18875), (18917, 2), (18917, 18612), (127, 18875), (127, 2), (127, 18612), (18875, 2), (18875, 18612), (2, 18500), (2, 18612), (18500, 18612)]\n"
     ]
    }
   ],
   "source": [
    "print good_matches"
   ]
  }
 ],
 "metadata": {
  "kernelspec": {
   "display_name": "Python 2",
   "language": "python",
   "name": "python2"
  },
  "language_info": {
   "codemirror_mode": {
    "name": "ipython",
    "version": 2
   },
   "file_extension": ".py",
   "mimetype": "text/x-python",
   "name": "python",
   "nbconvert_exporter": "python",
   "pygments_lexer": "ipython2",
   "version": "2.7.10"
  }
 },
 "nbformat": 4,
 "nbformat_minor": 0
}
